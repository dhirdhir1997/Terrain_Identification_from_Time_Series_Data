{
  "cells": [
    {
      "attachments": {},
      "cell_type": "markdown",
      "metadata": {},
      "source": [
        "# ProjectC - Terrain Identification from Time Series Data (Team 21)"
      ]
    },
    {
      "cell_type": "code",
      "execution_count": 20,
      "metadata": {
        "id": "hFsGeKGjNPPW"
      },
      "outputs": [],
      "source": [
        "import numpy as np\n",
        "import matplotlib.pyplot as plt\n",
        "import pandas as pd\n",
        "import glob\n",
        "from sklearn.model_selection import train_test_split\n",
        "from keras.models import Sequential, load_model\n",
        "from keras.layers import Dense, Dropout, LSTM, Bidirectional\n",
        "from keras.utils import to_categorical\n",
        "from keras.optimizers import SGD, Adam\n",
        "from collections import Counter\n",
        "from imblearn.over_sampling import SMOTE \n",
        "from sklearn.preprocessing import StandardScaler\n",
        "from sklearn.metrics import classification_report"
      ]
    },
    {
      "cell_type": "code",
      "execution_count": 21,
      "metadata": {},
      "outputs": [],
      "source": [
        "path0 = r'TrainingData'\n",
        "path1 = r'IntermediateData/'\n",
        "path3 = r'SubjectFiles/'\n",
        "path4 = r'FinalCombined/'\n",
        "path5 = r'TestData'\n",
        "path6 = r'TestIntermediateData/'\n",
        "path7 = r'UploadResults/'"
      ]
    },
    {
      "attachments": {},
      "cell_type": "markdown",
      "metadata": {
        "id": "ZSj5vw85QJrg"
      },
      "source": [
        "# Data Preprocessing\n",
        "1. Merge files with time files\n",
        "2. Merge with label files"
      ]
    },
    {
      "cell_type": "code",
      "execution_count": 22,
      "metadata": {
        "id": "JKMyqIPeNPPk",
        "outputId": "0e4b1885-63d5-426a-8962-6cd4a5af1d4a"
      },
      "outputs": [
        {
          "name": "stdout",
          "output_type": "stream",
          "text": [
            "['TrainingData\\\\subject_001_01__x.csv', 'TrainingData\\\\subject_001_02__x.csv', 'TrainingData\\\\subject_001_03__x.csv', 'TrainingData\\\\subject_001_04__x.csv', 'TrainingData\\\\subject_001_05__x.csv', 'TrainingData\\\\subject_001_06__x.csv', 'TrainingData\\\\subject_001_07__x.csv', 'TrainingData\\\\subject_001_08__x.csv', 'TrainingData\\\\subject_002_01__x.csv', 'TrainingData\\\\subject_002_02__x.csv', 'TrainingData\\\\subject_002_03__x.csv', 'TrainingData\\\\subject_002_04__x.csv', 'TrainingData\\\\subject_002_05__x.csv', 'TrainingData\\\\subject_003_01__x.csv', 'TrainingData\\\\subject_003_02__x.csv', 'TrainingData\\\\subject_003_03__x.csv', 'TrainingData\\\\subject_004_01__x.csv', 'TrainingData\\\\subject_004_02__x.csv', 'TrainingData\\\\subject_005_01__x.csv', 'TrainingData\\\\subject_005_02__x.csv', 'TrainingData\\\\subject_005_03__x.csv', 'TrainingData\\\\subject_006_01__x.csv', 'TrainingData\\\\subject_006_02__x.csv', 'TrainingData\\\\subject_006_03__x.csv', 'TrainingData\\\\subject_007_01__x.csv', 'TrainingData\\\\subject_007_02__x.csv', 'TrainingData\\\\subject_007_03__x.csv', 'TrainingData\\\\subject_007_04__x.csv', 'TrainingData\\\\subject_008_01__x.csv']\n",
            "['TrainingData\\\\subject_001_01__y.csv', 'TrainingData\\\\subject_001_02__y.csv', 'TrainingData\\\\subject_001_03__y.csv', 'TrainingData\\\\subject_001_04__y.csv', 'TrainingData\\\\subject_001_05__y.csv', 'TrainingData\\\\subject_001_06__y.csv', 'TrainingData\\\\subject_001_07__y.csv', 'TrainingData\\\\subject_001_08__y.csv', 'TrainingData\\\\subject_002_01__y.csv', 'TrainingData\\\\subject_002_02__y.csv', 'TrainingData\\\\subject_002_03__y.csv', 'TrainingData\\\\subject_002_04__y.csv', 'TrainingData\\\\subject_002_05__y.csv', 'TrainingData\\\\subject_003_01__y.csv', 'TrainingData\\\\subject_003_02__y.csv', 'TrainingData\\\\subject_003_03__y.csv', 'TrainingData\\\\subject_004_01__y.csv', 'TrainingData\\\\subject_004_02__y.csv', 'TrainingData\\\\subject_005_01__y.csv', 'TrainingData\\\\subject_005_02__y.csv', 'TrainingData\\\\subject_005_03__y.csv', 'TrainingData\\\\subject_006_01__y.csv', 'TrainingData\\\\subject_006_02__y.csv', 'TrainingData\\\\subject_006_03__y.csv', 'TrainingData\\\\subject_007_01__y.csv', 'TrainingData\\\\subject_007_02__y.csv', 'TrainingData\\\\subject_007_03__y.csv', 'TrainingData\\\\subject_007_04__y.csv', 'TrainingData\\\\subject_008_01__y.csv']\n",
            "['TrainingData\\\\subject_001_01__x_time.csv', 'TrainingData\\\\subject_001_02__x_time.csv', 'TrainingData\\\\subject_001_03__x_time.csv', 'TrainingData\\\\subject_001_04__x_time.csv', 'TrainingData\\\\subject_001_05__x_time.csv', 'TrainingData\\\\subject_001_06__x_time.csv', 'TrainingData\\\\subject_001_07__x_time.csv', 'TrainingData\\\\subject_001_08__x_time.csv', 'TrainingData\\\\subject_002_01__x_time.csv', 'TrainingData\\\\subject_002_02__x_time.csv', 'TrainingData\\\\subject_002_03__x_time.csv', 'TrainingData\\\\subject_002_04__x_time.csv', 'TrainingData\\\\subject_002_05__x_time.csv', 'TrainingData\\\\subject_003_01__x_time.csv', 'TrainingData\\\\subject_003_02__x_time.csv', 'TrainingData\\\\subject_003_03__x_time.csv', 'TrainingData\\\\subject_004_01__x_time.csv', 'TrainingData\\\\subject_004_02__x_time.csv', 'TrainingData\\\\subject_005_01__x_time.csv', 'TrainingData\\\\subject_005_02__x_time.csv', 'TrainingData\\\\subject_005_03__x_time.csv', 'TrainingData\\\\subject_006_01__x_time.csv', 'TrainingData\\\\subject_006_02__x_time.csv', 'TrainingData\\\\subject_006_03__x_time.csv', 'TrainingData\\\\subject_007_01__x_time.csv', 'TrainingData\\\\subject_007_02__x_time.csv', 'TrainingData\\\\subject_007_03__x_time.csv', 'TrainingData\\\\subject_007_04__x_time.csv', 'TrainingData\\\\subject_008_01__x_time.csv']\n",
            "['TrainingData\\\\subject_001_01__y_time.csv', 'TrainingData\\\\subject_001_02__y_time.csv', 'TrainingData\\\\subject_001_03__y_time.csv', 'TrainingData\\\\subject_001_04__y_time.csv', 'TrainingData\\\\subject_001_05__y_time.csv', 'TrainingData\\\\subject_001_06__y_time.csv', 'TrainingData\\\\subject_001_07__y_time.csv', 'TrainingData\\\\subject_001_08__y_time.csv', 'TrainingData\\\\subject_002_01__y_time.csv', 'TrainingData\\\\subject_002_02__y_time.csv', 'TrainingData\\\\subject_002_03__y_time.csv', 'TrainingData\\\\subject_002_04__y_time.csv', 'TrainingData\\\\subject_002_05__y_time.csv', 'TrainingData\\\\subject_003_01__y_time.csv', 'TrainingData\\\\subject_003_02__y_time.csv', 'TrainingData\\\\subject_003_03__y_time.csv', 'TrainingData\\\\subject_004_01__y_time.csv', 'TrainingData\\\\subject_004_02__y_time.csv', 'TrainingData\\\\subject_005_01__y_time.csv', 'TrainingData\\\\subject_005_02__y_time.csv', 'TrainingData\\\\subject_005_03__y_time.csv', 'TrainingData\\\\subject_006_01__y_time.csv', 'TrainingData\\\\subject_006_02__y_time.csv', 'TrainingData\\\\subject_006_03__y_time.csv', 'TrainingData\\\\subject_007_01__y_time.csv', 'TrainingData\\\\subject_007_02__y_time.csv', 'TrainingData\\\\subject_007_03__y_time.csv', 'TrainingData\\\\subject_007_04__y_time.csv', 'TrainingData\\\\subject_008_01__y_time.csv']\n"
          ]
        }
      ],
      "source": [
        "x = glob.glob(path0 + \"/subject_00*_*__x.csv\")\n",
        "y = glob.glob(path0 + \"/subject_00*_*__y.csv\")\n",
        "x_time = glob.glob(path0 + \"/subject_00*_*__x_time.csv\")\n",
        "y_time = glob.glob(path0 + \"/subject_00*_*__y_time.csv\")\n",
        "\n",
        "print(sorted(x))\n",
        "print(sorted(y))\n",
        "print(sorted(x_time))\n",
        "print(sorted(y_time))"
      ]
    },
    {
      "cell_type": "code",
      "execution_count": 23,
      "metadata": {
        "id": "WeQSpkJgNPPk",
        "outputId": "81d16631-2ec0-4070-d62c-35712f30cc4b"
      },
      "outputs": [
        {
          "name": "stdout",
          "output_type": "stream",
          "text": [
            "['TrainingData\\\\subject_001_01', 'TrainingData\\\\subject_001_02', 'TrainingData\\\\subject_001_03', 'TrainingData\\\\subject_001_04', 'TrainingData\\\\subject_001_05', 'TrainingData\\\\subject_001_06', 'TrainingData\\\\subject_001_07', 'TrainingData\\\\subject_001_08', 'TrainingData\\\\subject_002_01', 'TrainingData\\\\subject_002_02', 'TrainingData\\\\subject_002_03', 'TrainingData\\\\subject_002_04', 'TrainingData\\\\subject_002_05', 'TrainingData\\\\subject_003_01', 'TrainingData\\\\subject_003_02', 'TrainingData\\\\subject_003_03', 'TrainingData\\\\subject_004_01', 'TrainingData\\\\subject_004_02', 'TrainingData\\\\subject_005_01', 'TrainingData\\\\subject_005_02', 'TrainingData\\\\subject_005_03', 'TrainingData\\\\subject_006_01', 'TrainingData\\\\subject_006_02', 'TrainingData\\\\subject_006_03', 'TrainingData\\\\subject_007_01', 'TrainingData\\\\subject_007_02', 'TrainingData\\\\subject_007_03', 'TrainingData\\\\subject_007_04', 'TrainingData\\\\subject_008_01']\n",
            "['subject_001_01', 'subject_001_02', 'subject_001_03', 'subject_001_04', 'subject_001_05', 'subject_001_06', 'subject_001_07', 'subject_001_08', 'subject_002_01', 'subject_002_02', 'subject_002_03', 'subject_002_04', 'subject_002_05', 'subject_003_01', 'subject_003_02', 'subject_003_03', 'subject_004_01', 'subject_004_02', 'subject_005_01', 'subject_005_02', 'subject_005_03', 'subject_006_01', 'subject_006_02', 'subject_006_03', 'subject_007_01', 'subject_007_02', 'subject_007_03', 'subject_007_04', 'subject_008_01']\n"
          ]
        }
      ],
      "source": [
        "files_list = []\n",
        "subjects_list = []\n",
        "\n",
        "for filename in sorted(x):\n",
        "    file = filename[:-7]\n",
        "    files_list.append(file)\n",
        "\n",
        "for subject in files_list:\n",
        "    file = subject.split('\\\\')[1]\n",
        "    subjects_list.append(file)\n",
        "\n",
        "print(files_list)\n",
        "print(subjects_list)"
      ]
    },
    {
      "cell_type": "code",
      "execution_count": 24,
      "metadata": {
        "id": "VEVLeuRINPPl"
      },
      "outputs": [],
      "source": [
        "for filename in files_list:\n",
        "    subject=filename.split('\\\\')[1]\n",
        "    df1=pd.read_csv(filename+'__x.csv',  names =['acc_x', 'acc_y', 'acc_z', 'gyro_x', 'gyro_y', 'gyro_z'])\n",
        "    df2=pd.read_csv(filename+'__x_time.csv', names =['time'])\n",
        "    df1['time']=df2['time']\n",
        "    df1['time']=df1['time'].apply(lambda x:int(x*100)/100)\n",
        "    df1['time']=df1['time'].astype(str)\n",
        "    df3=pd.read_csv(filename+'__y.csv', names =['label'])\n",
        "    df4=pd.read_csv(filename+'__y_time.csv', names =['time'])\n",
        "    df3['time']=df4['time']\n",
        "    df3['time']=df3['time'].astype(str)\n",
        "    df1.to_csv(path1+subject+'x_comb_time.csv',index=False)\n",
        "    df3.to_csv(path1+subject+'y_label_time.csv',index=False)\n",
        "\n",
        "for subject in subjects_list:\n",
        "    df1 = pd.read_csv(path1+subject+'x_comb_time.csv')\n",
        "    df2 = pd.read_csv(path1+subject+'y_label_time.csv')\n",
        "    df3 = pd.merge(df1, df2, on='time', how='outer')\n",
        "    df3.to_csv(path3+subject+'final.csv',index=False)\n",
        "    df3['label']=df3['label'].interpolate(method='pad')\n",
        "    df4 = df3.loc[df3['time']!=0]\n",
        "    df4.to_csv(path4+subject+'_interpolatedfile.csv',index=False)"
      ]
    },
    {
      "cell_type": "code",
      "execution_count": 25,
      "metadata": {
        "id": "AYO6E44xNPPn",
        "outputId": "ca64d857-1509-42aa-c185-2eeb83b18d45"
      },
      "outputs": [
        {
          "name": "stderr",
          "output_type": "stream",
          "text": [
            "C:\\Users\\Mihir\\AppData\\Local\\Temp\\ipykernel_15736\\923309707.py:4: DtypeWarning: Columns (0,1,2,3,4,5,6,7) have mixed types. Specify dtype option on import or set low_memory=False.\n",
            "  df = pd.read_csv(files, names =['acc_x','acc_y','acc_z','gyro_x','gyro_y','gyro_z','time','label'])\n",
            "C:\\Users\\Mihir\\AppData\\Local\\Temp\\ipykernel_15736\\923309707.py:4: DtypeWarning: Columns (0,1,2,3,4,5,6,7) have mixed types. Specify dtype option on import or set low_memory=False.\n",
            "  df = pd.read_csv(files, names =['acc_x','acc_y','acc_z','gyro_x','gyro_y','gyro_z','time','label'])\n"
          ]
        }
      ],
      "source": [
        "li=[]\n",
        "all_files = glob.glob(path4 + \"*.csv\")\n",
        "for files in sorted(all_files):\n",
        "    df = pd.read_csv(files, names =['acc_x','acc_y','acc_z','gyro_x','gyro_y','gyro_z','time','label'])\n",
        "    li.append(df)\n",
        "    \n",
        "df1 = pd.concat(li, axis=0, ignore_index=True)\n",
        "df2 = df1.loc[df1['acc_x']!='acc_x']\n",
        "df2.to_csv('FinalDataFile.csv',index=False)"
      ]
    },
    {
      "cell_type": "code",
      "execution_count": 26,
      "metadata": {
        "id": "CcwY6hD5NPPo",
        "outputId": "bf30b53f-8051-4789-8678-7fae427117c5"
      },
      "outputs": [
        {
          "name": "stdout",
          "output_type": "stream",
          "text": [
            "1006897 55216 73068 206436\n"
          ]
        },
        {
          "name": "stderr",
          "output_type": "stream",
          "text": [
            "C:\\Users\\Mihir\\AppData\\Local\\Temp\\ipykernel_15736\\240846037.py:10: MatplotlibDeprecationWarning: The seaborn styles shipped by Matplotlib are deprecated since 3.6, as they no longer correspond to the styles shipped by seaborn. However, they will remain available as 'seaborn-v0_8-<style>'. Alternatively, directly use the seaborn API instead.\n",
            "  plt.style.use('seaborn')\n"
          ]
        },
        {
          "data": {
            "image/png": "[encoded data removed]",
            "text/plain": [
              "<Figure size 800x600 with 1 Axes>"
            ]
          },
          "metadata": {},
          "output_type": "display_data"
        }
      ],
      "source": [
        "df=pd.read_csv('FinalDataFile.csv')\n",
        "grass_full = df[df.label==3].count()[0]\n",
        "upstairs_full = df[df.label==2].count()[0]\n",
        "downstairs_full = df[df.label==1].count()[0]\n",
        "walking_full = df[df.label==0].count()[0]\n",
        "print(grass_full, downstairs_full, upstairs_full, walking_full)\n",
        "\n",
        "text = [\"standing / walking\", \"going downstairs\",\"going upstairs\", \"walking on grass\"]\n",
        "label = [walking_full, downstairs_full, upstairs_full, grass_full]\n",
        "plt.style.use('seaborn')\n",
        "plt.figure(figsize=(8,6),dpi=100)\n",
        "for bar in range(0,4):\n",
        "    plt.bar(text[bar],label[bar])"
      ]
    },
    {
      "cell_type": "code",
      "execution_count": 27,
      "metadata": {
        "id": "_3qeOVsiNPPp",
        "outputId": "4d1055c2-7706-4981-a4eb-415315b9e74f"
      },
      "outputs": [
        {
          "name": "stdout",
          "output_type": "stream",
          "text": [
            "            acc_x     acc_y     acc_z    gyro_x    gyro_y    gyro_z     time\n",
            "0        4.186920  8.344455  2.908057  0.005771 -0.004480 -0.003345     0.02\n",
            "1        4.544637  8.408659  2.890000  0.007967  0.022412  0.001159     0.05\n",
            "2        4.849308  8.411614  2.900692  0.027778 -0.010670 -0.014223     0.07\n",
            "3        4.509190  8.118649  2.847298  0.021577 -0.045498 -0.021111     0.10\n",
            "4        4.226515  8.273807  2.851742  0.012534  0.000445 -0.016830     0.12\n",
            "...           ...       ...       ...       ...       ...       ...      ...\n",
            "1341612  2.072244  8.908878 -3.500000  0.001351  0.001191  0.001031  1203.32\n",
            "1341613  2.085123  8.915123 -3.520000  0.001918 -0.001147  0.000000  1203.34\n",
            "1341614  2.083774  8.910000 -3.538981 -0.002015 -0.004099  0.001042  1203.37\n",
            "1341615  2.111447  8.908553 -3.535724  0.000183 -0.001673  0.001856  1203.40\n",
            "1341616  2.087730  8.900000 -3.518865  0.000052 -0.001267  0.000000  1203.42\n",
            "\n",
            "[1341617 rows x 7 columns]\n",
            "0          0.0\n",
            "1          0.0\n",
            "2          0.0\n",
            "3          0.0\n",
            "4          0.0\n",
            "          ... \n",
            "1341612    0.0\n",
            "1341613    0.0\n",
            "1341614    0.0\n",
            "1341615    0.0\n",
            "1341616    0.0\n",
            "Name: label, Length: 1341617, dtype: float64\n"
          ]
        }
      ],
      "source": [
        "y_train = df.label\n",
        "x_train= df.drop('label', axis=1)\n",
        "print(x_train)\n",
        "print(y_train)"
      ]
    },
    {
      "attachments": {},
      "cell_type": "markdown",
      "metadata": {},
      "source": [
        "# Balancing"
      ]
    },
    {
      "cell_type": "code",
      "execution_count": 28,
      "metadata": {
        "id": "bCdAd5ZfNPPq",
        "outputId": "3df76393-25ad-4343-b086-cb59c5cc20e7"
      },
      "outputs": [
        {
          "name": "stdout",
          "output_type": "stream",
          "text": [
            "Counter({0.0: 1006897, 3.0: 206436, 2.0: 73068, 1.0: 55216})\n"
          ]
        }
      ],
      "source": [
        "county = Counter(y_train)\n",
        "print(county)"
      ]
    },
    {
      "cell_type": "code",
      "execution_count": 29,
      "metadata": {
        "id": "Ww9kpLZNNPPq",
        "outputId": "704ea505-9f91-43c8-e797-4e4fc89a262c"
      },
      "outputs": [
        {
          "name": "stdout",
          "output_type": "stream",
          "text": [
            "4027588 4027588\n",
            "Counter({0.0: 1006897, 1.0: 1006897, 2.0: 1006897, 3.0: 1006897})\n"
          ]
        }
      ],
      "source": [
        "sm = SMOTE(random_state=123)\n",
        "x_train_sm, y_train_sm = sm.fit_resample(x_train, y_train)\n",
        "print(len(x_train_sm), len(y_train_sm))\n",
        "\n",
        "county_sm = Counter(y_train_sm)\n",
        "print(county_sm)"
      ]
    },
    {
      "attachments": {},
      "cell_type": "markdown",
      "metadata": {
        "id": "O-4TJu9oNPPq"
      },
      "source": [
        "# Splitting data into training and validation dataset"
      ]
    },
    {
      "cell_type": "code",
      "execution_count": 30,
      "metadata": {
        "id": "sw61Y84BNPPr"
      },
      "outputs": [
        {
          "name": "stdout",
          "output_type": "stream",
          "text": [
            "x_train length = 3020691 | y_train length = 3020691\n",
            "x_validation length = 1006897 | y_validation length = 1006897\n"
          ]
        }
      ],
      "source": [
        "x_train,x_val,y_train,y_val=train_test_split(x_train_sm, y_train_sm, test_size=0.25,random_state=123)\n",
        "print(\"x_train length = \" + str(len(x_train)) + \" | y_train length = \" + str(len(y_train)))\n",
        "print(\"x_validation length = \" + str(len(x_val)) + \" | y_validation length = \" + str(len(y_val)))"
      ]
    },
    {
      "cell_type": "code",
      "execution_count": 31,
      "metadata": {},
      "outputs": [
        {
          "name": "stdout",
          "output_type": "stream",
          "text": [
            "1006897 55216 73068 206436\n",
            "            acc_x     acc_y     acc_z    gyro_x    gyro_y    gyro_z     time  \\\n",
            "0        4.186920  8.344455  2.908057  0.005771 -0.004480 -0.003345     0.02   \n",
            "1        4.544637  8.408659  2.890000  0.007967  0.022412  0.001159     0.05   \n",
            "2        4.849308  8.411614  2.900692  0.027778 -0.010670 -0.014223     0.07   \n",
            "3        4.509190  8.118649  2.847298  0.021577 -0.045498 -0.021111     0.10   \n",
            "4        4.226515  8.273807  2.851742  0.012534  0.000445 -0.016830     0.12   \n",
            "...           ...       ...       ...       ...       ...       ...      ...   \n",
            "1341612  2.072244  8.908878 -3.500000  0.001351  0.001191  0.001031  1203.32   \n",
            "1341613  2.085123  8.915123 -3.520000  0.001918 -0.001147  0.000000  1203.34   \n",
            "1341614  2.083774  8.910000 -3.538981 -0.002015 -0.004099  0.001042  1203.37   \n",
            "1341615  2.111447  8.908553 -3.535724  0.000183 -0.001673  0.001856  1203.40   \n",
            "1341616  2.087730  8.900000 -3.518865  0.000052 -0.001267  0.000000  1203.42   \n",
            "\n",
            "         label  \n",
            "0          0.0  \n",
            "1          0.0  \n",
            "2          0.0  \n",
            "3          0.0  \n",
            "4          0.0  \n",
            "...        ...  \n",
            "1341612    0.0  \n",
            "1341613    0.0  \n",
            "1341614    0.0  \n",
            "1341615    0.0  \n",
            "1341616    0.0  \n",
            "\n",
            "[1341617 rows x 8 columns]\n",
            "            acc_x     acc_y     acc_z    gyro_x    gyro_y    gyro_z\n",
            "0        4.186920  8.344455  2.908057  0.005771 -0.004480 -0.003345\n",
            "1        4.544637  8.408659  2.890000  0.007967  0.022412  0.001159\n",
            "2        4.849308  8.411614  2.900692  0.027778 -0.010670 -0.014223\n",
            "3        4.509190  8.118649  2.847298  0.021577 -0.045498 -0.021111\n",
            "4        4.226515  8.273807  2.851742  0.012534  0.000445 -0.016830\n",
            "...           ...       ...       ...       ...       ...       ...\n",
            "1341612  2.072244  8.908878 -3.500000  0.001351  0.001191  0.001031\n",
            "1341613  2.085123  8.915123 -3.520000  0.001918 -0.001147  0.000000\n",
            "1341614  2.083774  8.910000 -3.538981 -0.002015 -0.004099  0.001042\n",
            "1341615  2.111447  8.908553 -3.535724  0.000183 -0.001673  0.001856\n",
            "1341616  2.087730  8.900000 -3.518865  0.000052 -0.001267  0.000000\n",
            "\n",
            "[1341617 rows x 6 columns]\n",
            "0          0.0\n",
            "1          0.0\n",
            "2          0.0\n",
            "3          0.0\n",
            "4          0.0\n",
            "          ... \n",
            "1341612    0.0\n",
            "1341613    0.0\n",
            "1341614    0.0\n",
            "1341615    0.0\n",
            "1341616    0.0\n",
            "Name: label, Length: 1341617, dtype: float64\n"
          ]
        }
      ],
      "source": [
        "df=pd.read_csv('FinalDataFile.csv')\n",
        "walking = df[df.label==0].count()[0]\n",
        "downstairs = df[df.label==1].count()[0]\n",
        "upstairs = df[df.label==2].count()[0]\n",
        "grass = df[df.label==3].count()[0]\n",
        "print(walking, downstairs, upstairs, grass)\n",
        "print(df)\n",
        "y_train = df.label\n",
        "x_train= df.drop('label', axis=1)\n",
        "x_train= x_train.drop('time', axis=1)\n",
        "print(x_train)\n",
        "print(y_train)\n",
        "y_train_cat = to_categorical(y_train,4).reshape(-1,4)\n",
        "df_y = pd.DataFrame(y_train_cat, columns = ['l1','l2','l3','l4'])"
      ]
    },
    {
      "cell_type": "code",
      "execution_count": 32,
      "metadata": {},
      "outputs": [
        {
          "name": "stdout",
          "output_type": "stream",
          "text": [
            "               ax        ay        az        gx        gy        gz\n",
            "0        0.620543  0.045290 -0.567099  0.000351 -0.018272  0.083457\n",
            "1        0.682938  0.054657 -0.570337  0.001033 -0.001082  0.089309\n",
            "2        0.736081  0.055088 -0.568419  0.007191 -0.022229  0.069323\n",
            "3        0.676755  0.012346 -0.577995  0.005263 -0.044493  0.060374\n",
            "4        0.627449  0.034983 -0.577198  0.002453 -0.015124  0.065937\n",
            "...           ...       ...       ...       ...       ...       ...\n",
            "1341612  0.251684  0.127635 -1.716335 -0.001023 -0.014647  0.089143\n",
            "1341613  0.253931  0.128546 -1.719921 -0.000847 -0.016142  0.087803\n",
            "1341614  0.253695  0.127799 -1.723325 -0.002069 -0.018029  0.089157\n",
            "1341615  0.258522  0.127588 -1.722741 -0.001386 -0.016478  0.090215\n",
            "1341616  0.254385  0.126340 -1.719718 -0.001427 -0.016218  0.087803\n",
            "\n",
            "[1341617 rows x 6 columns]\n"
          ]
        }
      ],
      "source": [
        "scaler = StandardScaler()\n",
        "df_x_scaled = scaler.fit_transform(x_train)\n",
        "df_x_scale = pd.DataFrame(df_x_scaled, columns = ['ax','ay','az','gx','gy','gz'])\n",
        "print(df_x_scale)"
      ]
    },
    {
      "cell_type": "code",
      "execution_count": 33,
      "metadata": {},
      "outputs": [
        {
          "name": "stdout",
          "output_type": "stream",
          "text": [
            "(32722, 40, 6) (32722, 40, 4)\n"
          ]
        }
      ],
      "source": [
        "def define_windows(df_x, df_y, windowsize=120):\n",
        "  window_x=[]\n",
        "  window_y=[]\n",
        "  for i in range(0, len(df_x)-windowsize, windowsize+1):\n",
        "    window_x.append([df_x.values[i:i+windowsize]])\n",
        "    window_y.append([df_y.values[i:i+windowsize]])\n",
        "  window_x=np.array(window_x).reshape(-1,windowsize,6)\n",
        "  window_y=np.array(window_y).reshape(-1,windowsize,4)\n",
        "\n",
        "  return window_x, window_y\n",
        "wsize = 40\n",
        "x_window, y_window = define_windows(df_x_scale, df_y, wsize)\n",
        "print(x_window.shape, y_window.shape)"
      ]
    },
    {
      "cell_type": "code",
      "execution_count": 34,
      "metadata": {},
      "outputs": [
        {
          "name": "stdout",
          "output_type": "stream",
          "text": [
            "x_train length = 27813 | y_train length = 27813\n",
            "x_validation length = 4909 | y_validation length = 4909\n"
          ]
        }
      ],
      "source": [
        "x_train,x_val,y_train,y_val=train_test_split(x_window, y_window, test_size=0.15,random_state=123)\n",
        "print(\"x_train length = \" + str(len(x_train)) + \" | y_train length = \" + str(len(y_train)))\n",
        "print(\"x_validation length = \" + str(len(x_val)) + \" | y_validation length = \" + str(len(y_val)))"
      ]
    },
    {
      "attachments": {},
      "cell_type": "markdown",
      "metadata": {},
      "source": [
        "# Creating and Training Bi-LSTM Model"
      ]
    },
    {
      "cell_type": "code",
      "execution_count": 37,
      "metadata": {},
      "outputs": [
        {
          "name": "stdout",
          "output_type": "stream",
          "text": [
            "Epoch 1/25\n",
            "870/870 [==============================] - 108s 117ms/step - loss: 0.4534 - accuracy: 0.8345 - val_loss: 0.3291 - val_accuracy: 0.8887\n",
            "Epoch 2/25\n",
            "870/870 [==============================] - 107s 123ms/step - loss: 0.2879 - accuracy: 0.8988 - val_loss: 0.2596 - val_accuracy: 0.9084\n",
            "Epoch 3/25\n",
            "870/870 [==============================] - 103s 119ms/step - loss: 0.2387 - accuracy: 0.9179 - val_loss: 0.2159 - val_accuracy: 0.9250\n",
            "Epoch 4/25\n",
            "870/870 [==============================] - 100s 115ms/step - loss: 0.2153 - accuracy: 0.9268 - val_loss: 0.2217 - val_accuracy: 0.9255\n",
            "Epoch 5/25\n",
            "870/870 [==============================] - 118s 135ms/step - loss: 0.1906 - accuracy: 0.9358 - val_loss: 0.2140 - val_accuracy: 0.9258\n",
            "Epoch 6/25\n",
            "870/870 [==============================] - 113s 130ms/step - loss: 0.1771 - accuracy: 0.9394 - val_loss: 0.1884 - val_accuracy: 0.9367\n",
            "Epoch 7/25\n",
            "870/870 [==============================] - 105s 121ms/step - loss: 0.1674 - accuracy: 0.9428 - val_loss: 0.1796 - val_accuracy: 0.9445\n",
            "Epoch 8/25\n",
            "870/870 [==============================] - 101s 116ms/step - loss: 0.1547 - accuracy: 0.9466 - val_loss: 0.1987 - val_accuracy: 0.9338\n",
            "Epoch 9/25\n",
            "870/870 [==============================] - 103s 119ms/step - loss: 0.1434 - accuracy: 0.9512 - val_loss: 0.1720 - val_accuracy: 0.9433\n",
            "Epoch 10/25\n",
            "870/870 [==============================] - 101s 117ms/step - loss: 0.1342 - accuracy: 0.9552 - val_loss: 0.1627 - val_accuracy: 0.9493\n",
            "Epoch 11/25\n",
            "870/870 [==============================] - 100s 115ms/step - loss: 0.1264 - accuracy: 0.9569 - val_loss: 0.1688 - val_accuracy: 0.9476\n",
            "Epoch 12/25\n",
            "870/870 [==============================] - 100s 115ms/step - loss: 0.1168 - accuracy: 0.9603 - val_loss: 0.2048 - val_accuracy: 0.9362\n",
            "Epoch 13/25\n",
            "870/870 [==============================] - 99s 114ms/step - loss: 0.1095 - accuracy: 0.9631 - val_loss: 0.1758 - val_accuracy: 0.9448\n",
            "Epoch 14/25\n",
            "870/870 [==============================] - 100s 115ms/step - loss: 0.1011 - accuracy: 0.9668 - val_loss: 0.1620 - val_accuracy: 0.9513\n",
            "Epoch 15/25\n",
            "870/870 [==============================] - 100s 115ms/step - loss: 0.0932 - accuracy: 0.9688 - val_loss: 0.1754 - val_accuracy: 0.9499\n",
            "Epoch 16/25\n",
            "870/870 [==============================] - 100s 115ms/step - loss: 0.0861 - accuracy: 0.9712 - val_loss: 0.1774 - val_accuracy: 0.9491\n",
            "Epoch 17/25\n",
            "870/870 [==============================] - 101s 116ms/step - loss: 0.0788 - accuracy: 0.9740 - val_loss: 0.1903 - val_accuracy: 0.9496\n",
            "Epoch 18/25\n",
            "870/870 [==============================] - 100s 115ms/step - loss: 0.0764 - accuracy: 0.9748 - val_loss: 0.1817 - val_accuracy: 0.9467\n",
            "Epoch 19/25\n",
            "870/870 [==============================] - 100s 115ms/step - loss: 0.0723 - accuracy: 0.9764 - val_loss: 0.1805 - val_accuracy: 0.9508\n",
            "Epoch 20/25\n",
            "870/870 [==============================] - 101s 116ms/step - loss: 0.0646 - accuracy: 0.9793 - val_loss: 0.1867 - val_accuracy: 0.9479\n",
            "Epoch 21/25\n",
            "870/870 [==============================] - 101s 116ms/step - loss: 0.0603 - accuracy: 0.9809 - val_loss: 0.1897 - val_accuracy: 0.9481\n",
            "Epoch 22/25\n",
            "870/870 [==============================] - 99s 114ms/step - loss: 0.0594 - accuracy: 0.9806 - val_loss: 0.1811 - val_accuracy: 0.9495\n",
            "Epoch 23/25\n",
            "870/870 [==============================] - 101s 116ms/step - loss: 0.0533 - accuracy: 0.9832 - val_loss: 0.2147 - val_accuracy: 0.9432\n",
            "Epoch 24/25\n",
            "870/870 [==============================] - 101s 116ms/step - loss: 0.0525 - accuracy: 0.9834 - val_loss: 0.2039 - val_accuracy: 0.9501\n",
            "Epoch 25/25\n",
            "870/870 [==============================] - 100s 115ms/step - loss: 0.0505 - accuracy: 0.9839 - val_loss: 0.1988 - val_accuracy: 0.9465\n"
          ]
        }
      ],
      "source": [
        "lstm_model = Sequential();\n",
        "lstm_model.add(Bidirectional(LSTM(200,return_sequences=True, input_shape=(40,6))))\n",
        "lstm_model.add(Dropout(0.1))\n",
        "lstm_model.add(LSTM(100, return_sequences=True, activation=\"relu\"))\n",
        "lstm_model.add(Dropout(0.1))\n",
        "lstm_model.add(Dense(30, activation=\"relu\"))\n",
        "lstm_model.add(Dense(4, activation=\"softmax\"))\n",
        "lstm_model.compile(optimizer=Adam(learning_rate=0.001),  loss='categorical_crossentropy', metrics = ['accuracy'])\n",
        "lstm_model_hisotry = lstm_model.fit(x_train, y_train, epochs=25, verbose=1, validation_data=(x_val, y_val))"
      ]
    },
    {
      "cell_type": "code",
      "execution_count": 38,
      "metadata": {},
      "outputs": [
        {
          "name": "stderr",
          "output_type": "stream",
          "text": [
            "WARNING:absl:Found untraced functions such as lstm_cell_9_layer_call_fn, lstm_cell_9_layer_call_and_return_conditional_losses, lstm_cell_10_layer_call_fn, lstm_cell_10_layer_call_and_return_conditional_losses while saving (showing 4 of 4). These functions will not be directly callable after loading.\n"
          ]
        },
        {
          "name": "stdout",
          "output_type": "stream",
          "text": [
            "INFO:tensorflow:Assets written to: lstm_model\\assets\n"
          ]
        },
        {
          "name": "stderr",
          "output_type": "stream",
          "text": [
            "INFO:tensorflow:Assets written to: lstm_model\\assets\n"
          ]
        },
        {
          "name": "stdout",
          "output_type": "stream",
          "text": [
            "Model: \"sequential_2\"\n",
            "_________________________________________________________________\n",
            " Layer (type)                Output Shape              Param #   \n",
            "=================================================================\n",
            " bidirectional_2 (Bidirectio  (None, 40, 400)          331200    \n",
            " nal)                                                            \n",
            "                                                                 \n",
            " dropout_4 (Dropout)         (None, 40, 400)           0         \n",
            "                                                                 \n",
            " lstm_5 (LSTM)               (None, 40, 100)           200400    \n",
            "                                                                 \n",
            " dropout_5 (Dropout)         (None, 40, 100)           0         \n",
            "                                                                 \n",
            " dense_4 (Dense)             (None, 40, 30)            3030      \n",
            "                                                                 \n",
            " dense_5 (Dense)             (None, 40, 4)             124       \n",
            "                                                                 \n",
            "=================================================================\n",
            "Total params: 534,754\n",
            "Trainable params: 534,754\n",
            "Non-trainable params: 0\n",
            "_________________________________________________________________\n"
          ]
        }
      ],
      "source": [
        "lstm_model.save('lstm_model')\n",
        "lstm_model.summary()"
      ]
    },
    {
      "cell_type": "code",
      "execution_count": 39,
      "metadata": {},
      "outputs": [],
      "source": [
        "\n",
        "def flatten_predictions(y_pred):\n",
        "  y_hat=[]\n",
        "  for i in y_pred:\n",
        "    for j in i:\n",
        "      y_hat.append(np.argmax(j))\n",
        "  return y_hat"
      ]
    },
    {
      "cell_type": "code",
      "execution_count": 40,
      "metadata": {},
      "outputs": [
        {
          "data": {
            "image/png": "[encoded data removed]",
            "text/plain": [
              "<Figure size 800x550 with 1 Axes>"
            ]
          },
          "metadata": {},
          "output_type": "display_data"
        },
        {
          "data": {
            "image/png": "[encoded data removed]",
            "text/plain": [
              "<Figure size 800x550 with 1 Axes>"
            ]
          },
          "metadata": {},
          "output_type": "display_data"
        },
        {
          "name": "stdout",
          "output_type": "stream",
          "text": [
            "154/154 [==============================] - 6s 32ms/step\n",
            "              precision    recall  f1-score   support\n",
            "\n",
            "           0       0.96      0.96      0.96    145041\n",
            "           1       0.94      0.93      0.93      8651\n",
            "           2       0.93      0.95      0.94     11320\n",
            "           3       0.87      0.87      0.87     31348\n",
            "\n",
            "    accuracy                           0.95    196360\n",
            "   macro avg       0.93      0.93      0.93    196360\n",
            "weighted avg       0.95      0.95      0.95    196360\n",
            "\n"
          ]
        }
      ],
      "source": [
        "plt.title('Loss')\n",
        "plt.plot(lstm_model_hisotry.history['loss'], color='blue', label='train')\n",
        "plt.plot(lstm_model_hisotry.history['val_loss'], color='red', label='validation')\n",
        "plt.ylabel('Loss')\n",
        "plt.xlabel('Epoch')\n",
        "plt.legend(['Train', 'Validation'])\n",
        "plt.show()\n",
        "plt.title('Accuracy')\n",
        "plt.plot(lstm_model_hisotry.history['accuracy'], color='blue', label='train')\n",
        "plt.plot(lstm_model_hisotry.history['val_accuracy'], color='red', label='validation')\n",
        "plt.ylabel('Accuracy')\n",
        "plt.xlabel('Epoch')\n",
        "plt.legend(['Train', 'Validation'])\n",
        "plt.show()\n",
        "\n",
        "\n",
        "\n",
        "y_val_pred = lstm_model.predict(x_val)\n",
        "y_val_pred_flat = flatten_predictions(y_val_pred)\n",
        "y_val_flat = flatten_predictions(y_val)\n",
        "print(classification_report(y_val_pred_flat, y_val_flat))"
      ]
    },
    {
      "attachments": {},
      "cell_type": "markdown",
      "metadata": {},
      "source": [
        "# Generating predictions"
      ]
    },
    {
      "cell_type": "code",
      "execution_count": 41,
      "metadata": {},
      "outputs": [
        {
          "name": "stdout",
          "output_type": "stream",
          "text": [
            "Model: \"sequential_2\"\n",
            "_________________________________________________________________\n",
            " Layer (type)                Output Shape              Param #   \n",
            "=================================================================\n",
            " bidirectional_2 (Bidirectio  (None, 40, 400)          331200    \n",
            " nal)                                                            \n",
            "                                                                 \n",
            " dropout_4 (Dropout)         (None, 40, 400)           0         \n",
            "                                                                 \n",
            " lstm_5 (LSTM)               (None, 40, 100)           200400    \n",
            "                                                                 \n",
            " dropout_5 (Dropout)         (None, 40, 100)           0         \n",
            "                                                                 \n",
            " dense_4 (Dense)             (None, 40, 30)            3030      \n",
            "                                                                 \n",
            " dense_5 (Dense)             (None, 40, 4)             124       \n",
            "                                                                 \n",
            "=================================================================\n",
            "Total params: 534,754\n",
            "Trainable params: 534,754\n",
            "Non-trainable params: 0\n",
            "_________________________________________________________________\n"
          ]
        }
      ],
      "source": [
        "biLSTM_model = load_model('lstm_model')\n",
        "biLSTM_model.summary()"
      ]
    },
    {
      "attachments": {},
      "cell_type": "markdown",
      "metadata": {},
      "source": [
        "# Developing test data files"
      ]
    },
    {
      "cell_type": "code",
      "execution_count": 42,
      "metadata": {},
      "outputs": [
        {
          "name": "stdout",
          "output_type": "stream",
          "text": [
            "['TestData\\\\subject_009_01__x.csv', 'TestData\\\\subject_010_01__x.csv', 'TestData\\\\subject_011_01__x.csv', 'TestData\\\\subject_012_01__x.csv']\n",
            "['TestData\\\\subject_009_01__x_time.csv', 'TestData\\\\subject_010_01__x_time.csv', 'TestData\\\\subject_011_01__x_time.csv', 'TestData\\\\subject_012_01__x_time.csv']\n",
            "['TestData\\\\subject_009_01__y_time.csv', 'TestData\\\\subject_010_01__y_time.csv', 'TestData\\\\subject_011_01__y_time.csv', 'TestData\\\\subject_012_01__y_time.csv']\n"
          ]
        }
      ],
      "source": [
        "all_x_files = glob.glob(path5 + \"/subject_0**_*__x.csv\")\n",
        "all_x_time_files = glob.glob(path5 + \"/subject_0**_*__x_time.csv\")\n",
        "all_y_time_files = glob.glob(path5 + \"/subject_0**_*__y_time.csv\")\n",
        "li = []\n",
        "\n",
        "print(sorted(all_x_files))\n",
        "print(sorted(all_x_time_files))\n",
        "print(sorted(all_y_time_files))"
      ]
    },
    {
      "cell_type": "code",
      "execution_count": 43,
      "metadata": {},
      "outputs": [
        {
          "name": "stdout",
          "output_type": "stream",
          "text": [
            "['TestData\\\\subject_009_01', 'TestData\\\\subject_010_01', 'TestData\\\\subject_011_01', 'TestData\\\\subject_012_01']\n",
            "subject_009_01\n",
            "subject_010_01\n",
            "subject_011_01\n",
            "subject_012_01\n"
          ]
        }
      ],
      "source": [
        "gen_files=[]\n",
        "for filename in sorted(all_x_files):\n",
        "    gen= filename[:-7]\n",
        "    gen_files.append(gen)\n",
        "\n",
        "print(gen_files)\n",
        "\n",
        "subject_list=[]\n",
        "for filename in gen_files:\n",
        "    file=filename.split('\\\\')[1]\n",
        "    print(file) \n",
        "    subject_list.append(file)"
      ]
    },
    {
      "cell_type": "code",
      "execution_count": 44,
      "metadata": {},
      "outputs": [],
      "source": [
        "for filename in gen_files:\n",
        "    subject=filename.split('\\\\')[1]\n",
        "    df1=pd.read_csv(filename+'__x.csv',  names =['acc_x', 'acc_y', 'acc_z', 'gyro_x', 'gyro_y', 'gyro_z'])\n",
        "    df2=pd.read_csv(filename+'__x_time.csv', names =['time'])\n",
        "    df1['time']=df2['time']\n",
        "    df1['time']=df1['time'].apply(lambda x:int(x*100)/100)\n",
        "    df1['time']=df1['time'].astype(str)\n",
        "    df3=pd.read_csv(filename+'__y_time.csv', names =['time'])\n",
        "    df3['time'].astype(str)\n",
        "    df1.to_csv(path6+subject+'x_combined_time.csv',index=False)\n",
        "    df3.to_csv(path6+subject+'y_time.csv',index=False)"
      ]
    },
    {
      "cell_type": "code",
      "execution_count": 45,
      "metadata": {},
      "outputs": [],
      "source": [
        "x_test_009 = pd.read_csv(path6 + 'subject_009_01x_combined_time.csv')\n",
        "x_test_010 = pd.read_csv(path6 + 'subject_010_01x_combined_time.csv')\n",
        "x_test_011 = pd.read_csv(path6 + 'subject_011_01x_combined_time.csv')\n",
        "x_test_012 = pd.read_csv(path6 + 'subject_012_01x_combined_time.csv')\n",
        "\n",
        "x_test_009 = x_test_009.drop('time', axis=1)\n",
        "x_test_010 = x_test_010.drop('time', axis=1)\n",
        "x_test_011 = x_test_011.drop('time', axis=1)\n",
        "x_test_012 = x_test_012.drop('time', axis=1)"
      ]
    },
    {
      "cell_type": "code",
      "execution_count": 46,
      "metadata": {},
      "outputs": [],
      "source": [
        "x_test_009_scaled = scaler.transform(x_test_009)\n",
        "x_test_009 = pd.DataFrame(x_test_009_scaled, columns = ['ax','ay','az','gx','gy','gz'])\n",
        "\n",
        "x_test_010_scaled = scaler.transform(x_test_010)\n",
        "x_test_010 = pd.DataFrame(x_test_010_scaled, columns = ['ax','ay','az','gx','gy','gz'])\n",
        "\n",
        "x_test_011_scaled = scaler.transform(x_test_011)\n",
        "x_test_011 = pd.DataFrame(x_test_011_scaled, columns = ['ax','ay','az','gx','gy','gz'])\n",
        "\n",
        "x_test_012_scaled = scaler.transform(x_test_012)\n",
        "x_test_012 = pd.DataFrame(x_test_012_scaled, columns = ['ax','ay','az','gx','gy','gz'])"
      ]
    },
    {
      "cell_type": "code",
      "execution_count": 47,
      "metadata": {},
      "outputs": [],
      "source": [
        "def define_test_windows(df_x, windowsize=40):\n",
        "  window_x=[]\n",
        "  for i in range(0, len(df_x)-windowsize, windowsize):\n",
        "    window_x.append([df_x.values[i:i+windowsize]])\n",
        "  window_x=np.array(window_x).reshape(-1,windowsize,6)\n",
        "  \n",
        "  return window_x\n"
      ]
    },
    {
      "cell_type": "code",
      "execution_count": 48,
      "metadata": {},
      "outputs": [],
      "source": [
        "x_09 = define_test_windows(x_test_009, wsize)\n",
        "x_10 = define_test_windows(x_test_010, wsize)\n",
        "x_11 = define_test_windows(x_test_011, wsize)\n",
        "x_12 = define_test_windows(x_test_012, wsize)"
      ]
    },
    {
      "cell_type": "code",
      "execution_count": 49,
      "metadata": {},
      "outputs": [],
      "source": [
        "y_pred_009 = biLSTM_model.predict(x_09)\n",
        "y_pred_010 = biLSTM_model.predict(x_10)\n",
        "y_pred_011 = biLSTM_model.predict(x_11)\n",
        "y_pred_012 = biLSTM_model.predict(x_12)\n",
        "\n",
        "y_009 = y_pred_009.tolist()\n",
        "yhat_009 = flatten_predictions(y_009)\n",
        "y_010 = y_pred_010.tolist()\n",
        "yhat_010 = flatten_predictions(y_010)\n",
        "y_011 = y_pred_011.tolist()\n",
        "yhat_011 = flatten_predictions(y_011)\n",
        "y_012 = y_pred_012.tolist()\n",
        "yhat_012 = flatten_predictions(y_012)\n"
      ]
    },
    {
      "cell_type": "code",
      "execution_count": 51,
      "metadata": {},
      "outputs": [],
      "source": [
        "yhat_009_df=pd.DataFrame(yhat_009, columns=['label'])\n",
        "yhat_010_df=pd.DataFrame(yhat_010, columns=['label'])\n",
        "yhat_011_df=pd.DataFrame(yhat_011, columns=['label'])\n",
        "yhat_012_df=pd.DataFrame(yhat_012, columns=['label'])"
      ]
    },
    {
      "cell_type": "code",
      "execution_count": 53,
      "metadata": {},
      "outputs": [],
      "source": [
        "x_combined9 = pd.read_csv(path6 + 'subject_009_01x_combined_time.csv')\n",
        "x_combined10 = pd.read_csv(path6 + 'subject_010_01x_combined_time.csv')\n",
        "x_combined11 = pd.read_csv(path6 + 'subject_011_01x_combined_time.csv')\n",
        "x_combined12 = pd.read_csv(path6 + 'subject_012_01x_combined_time.csv')"
      ]
    },
    {
      "cell_type": "code",
      "execution_count": 54,
      "metadata": {},
      "outputs": [],
      "source": [
        "x_combined9 = x_combined9.join(yhat_009_df, how='left')\n",
        "x_combined10 = x_combined10.join(yhat_010_df, how='left')\n",
        "x_combined11 = x_combined11.join(yhat_011_df, how='left')\n",
        "x_combined12 = x_combined12.join(yhat_012_df, how='left')\n",
        "\n",
        "x_combined9['label'] = x_combined9['label'].fillna(0)\n",
        "x_combined10['label'] = x_combined10['label'].fillna(0)\n",
        "x_combined11['label'] = x_combined11['label'].fillna(0)\n",
        "x_combined12['label'] = x_combined12['label'].fillna(0)"
      ]
    },
    {
      "cell_type": "code",
      "execution_count": 55,
      "metadata": {},
      "outputs": [],
      "source": [
        "y_time_009 = pd.read_csv(path6 + 'subject_009_01y_time.csv')\n",
        "y_time_010 = pd.read_csv(path6 + 'subject_010_01y_time.csv')\n",
        "y_time_011 = pd.read_csv(path6 + 'subject_011_01y_time.csv')\n",
        "y_time_012 = pd.read_csv(path6 + 'subject_012_01y_time.csv')"
      ]
    },
    {
      "cell_type": "code",
      "execution_count": 56,
      "metadata": {},
      "outputs": [],
      "source": [
        "xcombinedfinal9 = pd.merge(x_combined9, y_time_009, on='time', how='inner')\n",
        "xcombinedfinal10 = pd.merge(x_combined10, y_time_010, on='time', how='inner')\n",
        "xcombinedfinal11 = pd.merge(x_combined11, y_time_011, on='time', how='inner')\n",
        "xcombinedfinal12 = pd.merge(x_combined12, y_time_012, on='time', how='inner')"
      ]
    },
    {
      "cell_type": "code",
      "execution_count": 57,
      "metadata": {},
      "outputs": [],
      "source": [
        "# Change the test result directory before running this cell\n",
        "xcombinedfinal9['label'].to_csv(path7 + \"subject_009_01__y.csv\", index=False, header=False)\n",
        "xcombinedfinal10['label'].to_csv(path7 + \"subject_010_01__y.csv\", index=False, header=False)\n",
        "xcombinedfinal11['label'].to_csv(path7 + \"subject_011_01__y.csv\", index=False, header=False)\n",
        "xcombinedfinal12['label'].to_csv(path7 + \"subject_012_01__y.csv\", index=False, header=False)"
      ]
    },
    {
      "cell_type": "code",
      "execution_count": null,
      "metadata": {},
      "outputs": [],
      "source": []
    }
  ],
  "metadata": {
    "colab": {
      "name": "Preprocess.ipynb",
      "provenance": [],
      "toc_visible": true
    },
    "kernelspec": {
      "display_name": "Python 3",
      "language": "python",
      "name": "python3"
    },
    "language_info": {
      "codemirror_mode": {
        "name": "ipython",
        "version": 3
      },
      "file_extension": ".py",
      "mimetype": "text/x-python",
      "name": "python",
      "nbconvert_exporter": "python",
      "pygments_lexer": "ipython3",
      "version": "3.11.1"
    }
  },
  "nbformat": 4,
  "nbformat_minor": 0
}
